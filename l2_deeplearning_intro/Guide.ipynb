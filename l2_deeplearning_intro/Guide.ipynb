{
 "cells": [
  {
   "cell_type": "markdown",
   "metadata": {
    "editable": false,
    "ulab": {
     "buttons": {
      "ulab-button-b76cbb29": {
       "bashCommand": "",
       "filesToOpen": [],
       "isPreviewButton": false,
       "runInBackground": false,
       "text": "RIGHT CLICK ME"
      }
     }
    }
   },
   "source": [
    "# Build a Neural Network Exercise\n",
    "\n",
    "For this exercise, your task is to write code to build a neural network. The choice for the number of layers, and the number of neurons is up to you. However, since we will be using the MNIST dataset in this example, you will need to have 784 neurons in your input layer and 10 neurons in your output layer. Here are the steps you need to do:\n",
    "\n",
    "1. In the `main.py` file, create your model in the `create_model()` function.\n",
    "2. Return the model you created at the end of the function.\n",
    "3. Remember to save the `main.py`before moving to the next step.\n",
    "4. To test your solution, navigate to the `1_build_a_neural_network` directory and run the `train.py` file using `python3` from the terminal. This file will train your model for 10 epochs and then test it.\n",
    "\n",
    "**Note**: It may take 5 - 10 minutes to download the data sets. \n",
    "\n",
    "In case you get stuck, you can look at the solution below.\n",
    "\n",
    "## Try It Out!\n",
    "- Change the number of layers and neurons in your model. How does your model accuracy change? These values are called hyperparameters and they can change the performance of our model. In a later lesson, we will learn how to automatically search for hyperparameters that give the best results.\n",
    "- Can you create the same network in TensorFlow?"
   ]
  },
  {
   "cell_type": "markdown",
   "metadata": {
    "editable": false,
    "toggleable": true,
    "ulab": {
     "buttons": {
      "ulab-button-toggle-f6fd5e7b": {
       "style": "primary"
      }
     }
    }
   },
   "source": [
    "main.py\n",
    "``` python\n",
    "from torch import nn\n",
    "\n",
    "def create_model():\n",
    "    # Build a feed-forward network\n",
    "    input_size = 784\n",
    "    output_size = 10\n",
    "    model = nn.Sequential(nn.Linear(input_size, 128),\n",
    "                          nn.ReLU(),\n",
    "                          nn.Linear(128, 64),\n",
    "                          nn.ReLU(),\n",
    "                          nn.Linear(64, output_size),\n",
    "                          nn.LogSoftmax(dim=1))\n",
    "\n",
    "    return model\n",
    "```\n",
    "with an output similar to the following with slightly different numbers\n",
    "\n",
    "``` bash\n",
    "Downloading Data\n",
    "Downloading http://yann.lecun.com/exdb/mnist/train-images-idx3-ubyte.gz\n",
    "Downloading http://yann.lecun.com/exdb/mnist/train-labels-idx1-ubyte.gz\n",
    "Downloading http://yann.lecun.com/exdb/mnist/t10k-images-idx3-ubyte.gz\n",
    "Downloading http://yann.lecun.com/exdb/mnist/t10k-labels-idx1-ubyte.gz\n",
    "Processing...\n",
    "Done!\n",
    "Loading Model\n",
    "Starting Model Training\n",
    "Epoch 0: Loss 0.017120782285928726, Accuracy 68.16%\n",
    "Epoch 1: Loss 0.007949505932629108, Accuracy 83.92833333333334%\n",
    "Epoch 2: Loss 0.006463911850005388, Accuracy 87.345%\n",
    "Epoch 3: Loss 0.005365853197872639, Accuracy 89.765%\n",
    "Epoch 4: Loss 0.004543226677924395, Accuracy 91.455%\n",
    "Epoch 5: Loss 0.003972846083343029, Accuracy 92.63333333333334%\n",
    "Epoch 6: Loss 0.0035701512824743986, Accuracy 93.36833333333333%\n",
    "Epoch 7: Loss 0.003279545344412327, Accuracy 93.84%\n",
    "Epoch 8: Loss 0.00301821855828166, Accuracy 94.34833333333333%\n",
    "Epoch 9: Loss 0.002800592454150319, Accuracy 94.67999999999999%\n",
    "Testing Trained Model\n",
    "Test set: Accuracy: 9470/10000 = 94.69999999999999%)\n",
    "```"
   ]
  },
  {
   "cell_type": "markdown",
   "metadata": {
    "editable": false
   },
   "source": [
    "<!--\n",
    "%%ulab_page_divider\n",
    "--><hr/>"
   ]
  },
  {
   "cell_type": "markdown",
   "metadata": {
    "editable": false
   },
   "source": [
    "# Adding Cost Function and Optimization to Neural Networks Exercise\n",
    "\n",
    "For this exercise, your task is to add a Cost Function and Optimizer to the neural network you built in the last exercise. You will need to figure out what is the correct cost function and optimizer to use for your neural network architecture. Here are the steps you need to do:\n",
    "\n",
    "1. In the `main.py` file, complete the `create_model()` function. You can either create a new network or use the network you built in the previous exercise\n",
    "2. Add your cost function and optimizer\n",
    "3. Remember to save the `main.py`before moving to the next step.\n",
    "4. To test your solution, navigate to the `2_adding_cost_function` directory and run the `train.py` file using `python3`. This file will train your model for 10 epochs and then test it.\n",
    "\n",
    "**Note**: It may take 5 - 10 minutes to download the data sets. \n",
    "\n",
    "In case you get stuck, you can look at the solution below.\n",
    "\n",
    "## Try It Out!\n",
    "- Change the parameters of your optimizer and for your network. How does your model accuracy change? These values are called hyperparameters and they can change the performance of our model. In a later lesson, we will learn how to automatically search for hyperparameters that give the best results.\n",
    "- Can you create the same network in TensorFlow?\n"
   ]
  },
  {
   "cell_type": "markdown",
   "metadata": {
    "editable": false,
    "toggleable": true,
    "ulab": {
     "buttons": {
      "ulab-button-toggle-fd837018": {
       "style": "primary"
      }
     }
    }
   },
   "source": [
    "main.py\n",
    "\n",
    "``` python\n",
    "from torch import nn, optim\n",
    "\n",
    "def create_model():\n",
    "    # Build a feed-forward network\n",
    "    input_size = 784\n",
    "    output_size = 10\n",
    "    model = nn.Sequential(nn.Linear(input_size, 128),\n",
    "                          nn.ReLU(),\n",
    "                          nn.Linear(128, 64),\n",
    "                          nn.ReLU(),\n",
    "                          nn.Linear(64, output_size),\n",
    "                          nn.LogSoftmax(dim=1))\n",
    "\n",
    "    return model\n",
    "\n",
    "model = create_model()\n",
    "\n",
    "cost = nn.NLLLoss()\n",
    "\n",
    "optimizer = optim.SGD(model.parameters(), lr=0.001, momentum=0.9)\n",
    "```\n",
    "\n",
    "with an output similar to the following with slightly different numbers\n",
    "\n",
    "``` bash\n",
    "Downloading http://yann.lecun.com/exdb/mnist/train-images-idx3-ubyte.gz\n",
    "Downloading http://yann.lecun.com/exdb/mnist/train-labels-idx1-ubyte.gz\n",
    "Downloading http://yann.lecun.com/exdb/mnist/t10k-images-idx3-ubyte.gz\n",
    "Downloading http://yann.lecun.com/exdb/mnist/t10k-labels-idx1-ubyte.gz\n",
    "Processing...\n",
    "Done!\n",
    "Epoch 0: Loss 0.01580933853983879, Accuracy 70.785%\n",
    "Epoch 1: Loss 0.007626608945429325, Accuracy 84.73833333333334%\n",
    "Test set: Accuracy: 8731/10000 = 87.31%)\n",
    "```"
   ]
  },
  {
   "cell_type": "markdown",
   "metadata": {
    "editable": false
   },
   "source": [
    "<!--\n",
    "%%ulab_page_divider\n",
    "--><hr/>"
   ]
  },
  {
   "cell_type": "markdown",
   "metadata": {
    "editable": false
   },
   "source": [
    "# Training a Neural Network\n",
    "\n",
    "In this exercise, you will have to implement all aspects of a neural network training script. This includes creating data loading and model training, testing logic in your code. Here are the steps you need to do to complete this exercise:\n",
    "\n",
    "1. In the `main.py` file, finish the `train()` and `test()` functions. These should contain loops to train and test your model respectively.\n",
    "2. Finish the `create_model()` function. You can use the same model from a previous exercise.\n",
    "3. Create Data Transforms and Data Loaders to download, read and preprocess your data.\n",
    "4. Add a cost function and optimizer. You can use the same cost functions and optimizer from the previous exercise.\n",
    "4. Remember to save the `main.py`before moving to the next step.\n",
    "5. Navigate to the `3_training_a_neural_network` and run the `main.py` using `python3` to make sure that the model is training properly.\n",
    "\n",
    "**Note**: It may take 5 - 10 minutes to download the data sets. \n",
    "\n",
    "In case you get stuck, you can look at the solution below.\n",
    "\n",
    "## Try It Out!\n",
    "- Can you create the same network in TensorFlow as well?\n"
   ]
  },
  {
   "cell_type": "markdown",
   "metadata": {
    "editable": false,
    "toggleable": true,
    "ulab": {
     "buttons": {
      "ulab-button-toggle-65d52fe7": {
       "style": "primary"
      }
     }
    }
   },
   "source": [
    "main.py\n",
    "\n",
    "``` python\n",
    "import numpy as np\n",
    "import torch\n",
    "from torchvision import datasets, transforms\n",
    "from torch import nn, optim\n",
    "\n",
    "def train(model, train_loader, cost, optimizer, epoch):\n",
    "    model.train()\n",
    "    for e in range(epoch):\n",
    "        running_loss=0\n",
    "        correct=0\n",
    "        for data, target in train_loader:\n",
    "            data = data.view(data.shape[0], -1)\n",
    "            optimizer.zero_grad()\n",
    "            pred = model(data)\n",
    "            loss = cost(pred, target)\n",
    "            running_loss+=loss\n",
    "            loss.backward()\n",
    "            optimizer.step()\n",
    "            pred=pred.argmax(dim=1, keepdim=True)\n",
    "            correct += pred.eq(target.view_as(pred)).sum().item()\n",
    "        print(f\"Epoch {e}: Loss {running_loss/len(train_loader.dataset)}, Accuracy {100*(correct/len(train_loader.dataset))}%\")\n",
    "\n",
    "def test(model, test_loader):\n",
    "    model.eval()\n",
    "    correct = 0\n",
    "    with torch.no_grad():\n",
    "        for data, target in test_loader:\n",
    "            data = data.view(data.shape[0], -1)\n",
    "            output = model(data)\n",
    "            pred = output.argmax(dim=1, keepdim=True)  # get the index of the max log-probability\n",
    "            correct += pred.eq(target.view_as(pred)).sum().item()\n",
    "\n",
    "    print(f'Test set: Accuracy: {correct}/{len(test_loader.dataset)} = {100*(correct/len(test_loader.dataset))}%)')\n",
    "\n",
    "def create_model():\n",
    "    # Build a feed-forward network\n",
    "    input_size = 784\n",
    "    output_size = 10\n",
    "    model = nn.Sequential(nn.Linear(input_size, 128),\n",
    "                          nn.ReLU(),\n",
    "                          nn.Linear(128, 64),\n",
    "                          nn.ReLU(),\n",
    "                          nn.Linear(64, output_size),\n",
    "                          nn.LogSoftmax(dim=1))\n",
    "\n",
    "    return model\n",
    "\n",
    "training_transform = transforms.Compose([\n",
    "    transforms.RandomHorizontalFlip(p=0.5),\n",
    "    transforms.ToTensor(),\n",
    "    transforms.Normalize((0.1307,), (0.3081,))\n",
    "    ])\n",
    "\n",
    "testing_transform = transforms.Compose([\n",
    "    transforms.ToTensor(),\n",
    "    transforms.Normalize((0.1307,), (0.3081,))\n",
    "    ])\n",
    "\n",
    "# Set Hyperparameters\n",
    "batch_size = 64\n",
    "epoch = 10\n",
    "\n",
    "# Download and load the training data\n",
    "trainset = datasets.MNIST('data/', download=True, train=True, transform=training_transform)\n",
    "testset = datasets.MNIST('data/', download=True, train=False, transform=testing_transform)\n",
    "train_loader = torch.utils.data.DataLoader(trainset, batch_size=batch_size, shuffle=True)\n",
    "test_loader = torch.utils.data.DataLoader(testset, batch_size=batch_size, shuffle=True)\n",
    "\n",
    "\n",
    "model = create_model()\n",
    "\n",
    "cost = nn.NLLLoss()\n",
    "\n",
    "optimizer = optim.SGD(model.parameters(), lr=0.001, momentum=0.9)\n",
    "\n",
    "\n",
    "train(model, train_loader, cost, optimizer, epoch)\n",
    "test(model, test_loader)\n",
    "```"
   ]
  }
 ],
 "metadata": {
  "kernelspec": {
   "display_name": "Python 3",
   "language": "python",
   "name": "python3"
  },
  "language_info": {
   "codemirror_mode": {
    "name": "ipython",
    "version": 3
   },
   "file_extension": ".py",
   "mimetype": "text/x-python",
   "name": "python",
   "nbconvert_exporter": "python",
   "pygments_lexer": "ipython3",
   "version": "3.6.3"
  },
  "ulab_nb_type": "guided"
 },
 "nbformat": 4,
 "nbformat_minor": 4
}
